{
 "cells": [
  {
   "cell_type": "code",
   "execution_count": null,
   "id": "6e8af9fc",
   "metadata": {},
   "outputs": [],
   "source": [
    "import mercury as mr"
   ]
  },
  {
   "cell_type": "code",
   "execution_count": null,
   "id": "4c9e8b1e",
   "metadata": {
    "scrolled": false
   },
   "outputs": [],
   "source": [
    "# Create an object of type App to change title,description etc accordingly\n",
    "mr.App(title = \"Tourist Support Portal\", description= \"A webApp that provides tourists with comprehensive destination information, including attractions, accommodations, transportation, and safety tips.\")"
   ]
  },
  {
   "cell_type": "code",
   "execution_count": null,
   "id": "da4904f6",
   "metadata": {
    "scrolled": false
   },
   "outputs": [],
   "source": [
    "origin = mr.Text(label=\"Where are you from?\", value=\"New York\")"
   ]
  },
  {
   "cell_type": "code",
   "execution_count": null,
   "id": "a0ee84c0",
   "metadata": {
    "scrolled": true
   },
   "outputs": [],
   "source": [
    "destination = mr.Text(label=\"Where are you planning to go ?\", value=\"Select\")\n"
   ]
  },
  {
   "cell_type": "code",
   "execution_count": null,
   "id": "112e4446",
   "metadata": {},
   "outputs": [],
   "source": [
    "Duration = mr.Select(label=\"Select duration of tour\", value=\"Select\", choices=[ \"Select\",\"1 day\", \"2 days\",\"3 days\", \"4 days\", \"5 days\",\"6 days\", \"7 days\", \"More than a week\"])"
   ]
  },
  {
   "cell_type": "code",
   "execution_count": null,
   "id": "e00ed541",
   "metadata": {},
   "outputs": [],
   "source": [
    "options = {\"Select\":0,\"Travel Plan\":1,\"Accomodation\":2,\"Transport\":3,\"Precautions\":4,\"Culture Differences\":5,\"Climate\":6,\"Food\":7}"
   ]
  },
  {
   "cell_type": "code",
   "execution_count": null,
   "id": "920183ca",
   "metadata": {},
   "outputs": [],
   "source": [
    "Option = mr.Select(label=\"What do you want to know ?\", value=\"Select\",choices=[\"Select\",\"Travel Plan\",\"Accomodation\",\"Transport\",\"Precautions\",\"Culture Differences\",\"Climate\",\"Food\"])"
   ]
  },
  {
   "cell_type": "code",
   "execution_count": null,
   "id": "b972e517",
   "metadata": {},
   "outputs": [],
   "source": [
    "Query = [f\"Reply as a Travel Guide.what would you recommend a travel plan of {Duration.value} days in {destination.value}\",\n",
    "          f\"Reply as a Travel Guide.Recommend multiple accomodation options for all price ranges in {destination.value}\",\n",
    "          f\"Reply as a Travel Guide.Provide a list of the safe transport options a tourist can use in {destination.value} with approx prices\",\n",
    "          f\"Reply as a Travel Guide.What are some precautions you would give to a tourist during a trip to {destination.value}\",\n",
    "          f\"Reply as a Travel Guide.What are some culture differences that can be challenging to tourists go {destination.value} coming from {origin.value}\",\n",
    "          f\"Reply as a Travel Guide.What is the general climate in {destination.value} and Suggest few precautions with respect to climate in {destination.value}\",\n",
    "        f\"Reply as a Tourist Guide, Provide a list of foods that are must to try during the trip to {destination.value}?\"]"
   ]
  },
  {
   "cell_type": "code",
   "execution_count": null,
   "id": "6677b314",
   "metadata": {
    "scrolled": true
   },
   "outputs": [],
   "source": [
    "import openai\n",
    "\n",
    "def key_collector(instances): #Add your openAI keys according to available number\n",
    "    instances=instances%6 #No of keys you are planning to include\n",
    "    if instances==1:\n",
    "        openai.api_key=\"\" \n",
    "        return openai\n",
    "    elif instances==2:\n",
    "        openai.api_key=\"\" \n",
    "        return openai\n",
    "    elif instances==3:\n",
    "        openai.api_key=\"\" \n",
    "        return openai\n",
    "    elif instances==4:\n",
    "        openai.api_key=\"\" \n",
    "        return openai\n",
    "    elif instances==5 :\n",
    "        openai.api_key=\"\" \n",
    "        return openai\n",
    "    else:\n",
    "        openai.api_key=\"\" \n",
    "        return openai    \n",
    "\n",
    "def reply(abc,currnet_query):\n",
    "    print(abc.choices[0].message.content)\n",
    "    print(\"\")\n",
    "    print(\"\")\n",
    "    print(\"\")\n",
    "\n",
    "def bot1(key1,prev,choice):\n",
    "    previous_query=prev\n",
    "    currnet_query=Query[choice]\n",
    "    Transformer_Response=key1.ChatCompletion.create(\n",
    "        model=\"gpt-3.5-turbo\",\n",
    "        messages=[{\"role\":\"user\",\"content\":\"\"+previous_query+\" Now,\"+currnet_query}])\n",
    "    reply(Transformer_Response,currnet_query)\n",
    "    return currnet_query\n",
    "\n",
    "k= 0\n",
    "currnet_query=\"\"\n",
    "previous_query=currnet_query\n",
    "\n",
    "\n",
    "\n",
    "if destination.value !=\"Select\" and Duration.value != \"Select\" and options[Option.value]!=0:\n",
    "    t=options[Option.value]\n",
    "    key=key_collector(k)\n",
    "    previous_query=bot1(key,previous_query,t-1)\n",
    "    k+=1\n",
    "        "
   ]
  }
 ],
 "metadata": {
  "kernelspec": {
   "display_name": "Python 3 (ipykernel)",
   "language": "python",
   "name": "python3"
  },
  "language_info": {
   "codemirror_mode": {
    "name": "ipython",
    "version": 3
   },
   "file_extension": ".py",
   "mimetype": "text/x-python",
   "name": "python",
   "nbconvert_exporter": "python",
   "pygments_lexer": "ipython3",
   "version": "3.9.13"
  }
 },
 "nbformat": 4,
 "nbformat_minor": 5
}
